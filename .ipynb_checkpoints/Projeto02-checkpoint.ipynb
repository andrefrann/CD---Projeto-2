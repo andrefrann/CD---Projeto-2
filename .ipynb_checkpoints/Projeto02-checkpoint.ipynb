{
 "cells": [
  {
   "cell_type": "markdown",
   "metadata": {},
   "source": [
    "# Projeto 2 - Classificador Automático de Sentimento\n",
    "\n",
    "Você foi contratado por uma empresa parar analisar como os clientes estão reagindo a um determinado produto no Twitter. A empresa deseja que você crie um programa que irá analisar as mensagens disponíveis e classificará como \"relevante\" ou \"irrelevante\". Com isso ela deseja que mensagens negativas, que denigrem o nome do produto, ou que mereçam destaque, disparem um foco de atenção da área de marketing.<br /><br />\n",
    "Como aluno de Ciência dos Dados, você lembrou do Teorema de Bayes, mais especificamente do Classificador Naive-Bayes, que é largamente utilizado em filtros anti-spam de e-mails. O classificador permite calcular qual a probabilidade de uma mensagem ser relevante dadas as palavras em seu conteúdo.<br /><br />\n",
    "Para realizar o MVP (*minimum viable product*) do projeto, você precisa implementar uma versão do classificador que \"aprende\" o que é relevante com uma base de treinamento e compara a performance dos resultados com uma base de testes.<br /><br />\n",
    "Após validado, o seu protótipo poderá também capturar e classificar automaticamente as mensagens da plataforma.\n",
    "\n",
    "## Informações do Projeto\n",
    "\n",
    "Prazo: 13/Set até às 23:59.<br />\n",
    "Grupo: 1 ou 2 pessoas.<br /><br />\n",
    "Entregáveis via GitHub: \n",
    "* Arquivo notebook com o código do classificador, seguindo as orientações abaixo.\n",
    "* Arquivo Excel com as bases de treinamento e teste totalmente classificado.\n",
    "\n",
    "**NÃO disponibilizar o arquivo com os *access keys/tokens* do Twitter.**\n",
    "\n",
    "\n",
    "### Check 3: \n",
    "\n",
    "Até o dia 06 de Setembro às 23:59, o notebook e o xlsx devem estar no Github com as seguintes evidências: \n",
    "    * Conta no twitter criada.\n",
    "    * Produto escolhido.\n",
    "    * Arquivo Excel contendo a base de treinamento e teste já classificado.\n",
    "\n",
    "Sugestão de leitura:<br />\n",
    "http://docs.tweepy.org/en/v3.5.0/index.html<br />\n",
    "https://monkeylearn.com/blog/practical-explanation-naive-bayes-classifier/"
   ]
  },
  {
   "cell_type": "markdown",
   "metadata": {},
   "source": [
    "___\n",
    "\n",
    "## Preparando o ambiente\n",
    "\n",
    "Instalando a biblioteca *tweepy* para realizar a conexão com o Twitter:"
   ]
  },
  {
   "cell_type": "code",
   "execution_count": 44,
   "metadata": {
    "collapsed": true
   },
   "outputs": [],
   "source": [
    "%%capture\n",
    "\n",
    "#Instalando o tweepy\n",
    "!pip install tweepy"
   ]
  },
  {
   "cell_type": "markdown",
   "metadata": {},
   "source": [
    "Importando as Bibliotecas que serão utilizadas. Esteja livre para adicionar outras."
   ]
  },
  {
   "cell_type": "code",
   "execution_count": 45,
   "metadata": {
    "collapsed": true
   },
   "outputs": [],
   "source": [
    "import tweepy\n",
    "import math\n",
    "import os.path\n",
    "import pandas as pd\n",
    "import json\n",
    "from random import shuffle"
   ]
  },
  {
   "cell_type": "markdown",
   "metadata": {},
   "source": [
    "___\n",
    "## Autenticando no  Twitter\n",
    "\n",
    "Para realizar a captura dos dados é necessário ter uma conta cadastrada no twitter:\n",
    "\n",
    "* Conta: ***[Preencha aqui o id da sua conta. Ex: @fulano ]***\n",
    "\n",
    "\n",
    "1. Caso ainda não tenha uma: https://twitter.com/signup\n",
    "1. Depois é necessário registrar um app para usar a biblioteca: https://apps.twitter.com/\n",
    "1. Dentro do registro do App, na aba Keys and Access Tokens, anotar os seguintes campos:\n",
    "    1. Consumer Key (API Key)\n",
    "    1. Consumer Secret (API Secret)\n",
    "1. Mais abaixo, gere um Token e anote também:\n",
    "    1. Access Token\n",
    "    1. Access Token Secret\n",
    "    \n",
    "1. Preencha os valores no arquivo \"auth.pass\"\n",
    "\n",
    "**ATENÇÃO**: Nunca divulgue os dados desse arquivo online (GitHub, etc). Ele contém as chaves necessárias para realizar as operações no twitter de forma automática e portanto é equivalente a ser \"hackeado\". De posse desses dados, pessoas mal intencionadas podem fazer todas as operações manuais (tweetar, seguir, bloquear/desbloquear, listar os seguidores, etc). Para efeito do projeto, esse arquivo não precisa ser entregue!!!"
   ]
  },
  {
   "cell_type": "code",
   "execution_count": 46,
   "metadata": {
    "collapsed": false
   },
   "outputs": [
    {
     "ename": "FileNotFoundError",
     "evalue": "[Errno 2] No such file or directory: 'auth.pass'",
     "output_type": "error",
     "traceback": [
      "\u001b[0;31m---------------------------------------------------------------------------\u001b[0m",
      "\u001b[0;31mFileNotFoundError\u001b[0m                         Traceback (most recent call last)",
      "\u001b[0;32m<ipython-input-46-0ff848c6c1e4>\u001b[0m in \u001b[0;36m<module>\u001b[0;34m()\u001b[0m\n\u001b[1;32m      8\u001b[0m \u001b[1;33m\u001b[0m\u001b[0m\n\u001b[1;32m      9\u001b[0m \u001b[1;31m#leitura do arquivo no formato JSON\u001b[0m\u001b[1;33m\u001b[0m\u001b[1;33m\u001b[0m\u001b[0m\n\u001b[0;32m---> 10\u001b[0;31m \u001b[1;32mwith\u001b[0m \u001b[0mopen\u001b[0m\u001b[1;33m(\u001b[0m\u001b[1;34m'auth.pass'\u001b[0m\u001b[1;33m)\u001b[0m \u001b[1;32mas\u001b[0m \u001b[0mfp\u001b[0m\u001b[1;33m:\u001b[0m\u001b[1;33m\u001b[0m\u001b[0m\n\u001b[0m\u001b[1;32m     11\u001b[0m     \u001b[0mdata\u001b[0m \u001b[1;33m=\u001b[0m \u001b[0mjson\u001b[0m\u001b[1;33m.\u001b[0m\u001b[0mload\u001b[0m\u001b[1;33m(\u001b[0m\u001b[0mfp\u001b[0m\u001b[1;33m)\u001b[0m\u001b[1;33m\u001b[0m\u001b[0m\n\u001b[1;32m     12\u001b[0m \u001b[1;33m\u001b[0m\u001b[0m\n",
      "\u001b[0;31mFileNotFoundError\u001b[0m: [Errno 2] No such file or directory: 'auth.pass'"
     ]
    }
   ],
   "source": [
    "#Dados de autenticação do twitter:\n",
    "# consumer key = Kcq6B8XFQroCqT2dh7FvcWt0H \n",
    "# consumet secret = HwLL5rVZgkk5owuo662LA57o5IFVVsqZHM3LbzU4SMCnUT1rxm\n",
    "# acess token = 905107777705652224-fA5Y1kkycCDfVR2xdAkopJktjRyVebA\n",
    "# token secret = gNQZEXW7rxrk2fhXBhZBYbFBJKq7T4OLhX9OOHbjSZouJ\n",
    "\n",
    "#Coloque aqui o identificador da conta no twitter: @annunzicate\n",
    "\n",
    "#leitura do arquivo no formato JSON\n",
    "with open('auth.pass') as fp:    \n",
    "    data = json.load(fp)\n",
    "\n",
    "#Configurando a biblioteca. Não modificar\n",
    "auth = tweepy.OAuthHandler(data['consumer_key'], data['consumer_secret'])\n",
    "auth.set_access_token(data['access_token'], data['access_token_secret'])"
   ]
  },
  {
   "cell_type": "markdown",
   "metadata": {},
   "source": [
    "___\n",
    "## Coletando Dados\n",
    "\n",
    "Agora vamos coletar os dados. Tenha em mente que dependendo do produto escolhido, não haverá uma quantidade significativa de mensagens, ou ainda poder haver muitos retweets.<br /><br /> \n",
    "Configurando:"
   ]
  },
  {
   "cell_type": "code",
   "execution_count": null,
   "metadata": {
    "collapsed": true
   },
   "outputs": [],
   "source": [
    "#Produto escolhido:\n",
    "produto = 'Corote'\n",
    "\n",
    "#Quantidade mínima de mensagens capturadas:\n",
    "n = 500\n",
    "#Quantidade mínima de mensagens para a base de treinamento:\n",
    "t = 300\n",
    "\n",
    "#Filtro de língua, escolha uma na tabela ISO 639-1.\n",
    "lang = 'pt'"
   ]
  },
  {
   "cell_type": "markdown",
   "metadata": {},
   "source": [
    "Capturando os dados do twitter:"
   ]
  },
  {
   "cell_type": "code",
   "execution_count": 47,
   "metadata": {
    "collapsed": false
   },
   "outputs": [
    {
     "ename": "NameError",
     "evalue": "name 'auth' is not defined",
     "output_type": "error",
     "traceback": [
      "\u001b[0;31m---------------------------------------------------------------------------\u001b[0m",
      "\u001b[0;31mNameError\u001b[0m                                 Traceback (most recent call last)",
      "\u001b[0;32m<ipython-input-47-910742af87dd>\u001b[0m in \u001b[0;36m<module>\u001b[0;34m()\u001b[0m\n\u001b[1;32m      1\u001b[0m \u001b[1;31m#Cria um objeto para a captura\u001b[0m\u001b[1;33m\u001b[0m\u001b[1;33m\u001b[0m\u001b[0m\n\u001b[0;32m----> 2\u001b[0;31m \u001b[0mapi\u001b[0m \u001b[1;33m=\u001b[0m \u001b[0mtweepy\u001b[0m\u001b[1;33m.\u001b[0m\u001b[0mAPI\u001b[0m\u001b[1;33m(\u001b[0m\u001b[0mauth\u001b[0m\u001b[1;33m)\u001b[0m\u001b[1;33m\u001b[0m\u001b[0m\n\u001b[0m\u001b[1;32m      3\u001b[0m \u001b[1;33m\u001b[0m\u001b[0m\n\u001b[1;32m      4\u001b[0m \u001b[1;31m#Inicia a captura, para mais detalhes: ver a documentação do tweepy\u001b[0m\u001b[1;33m\u001b[0m\u001b[1;33m\u001b[0m\u001b[0m\n\u001b[1;32m      5\u001b[0m \u001b[0mi\u001b[0m \u001b[1;33m=\u001b[0m \u001b[1;36m1\u001b[0m\u001b[1;33m\u001b[0m\u001b[0m\n",
      "\u001b[0;31mNameError\u001b[0m: name 'auth' is not defined"
     ]
    }
   ],
   "source": [
    "#Cria um objeto para a captura\n",
    "api = tweepy.API(auth)\n",
    "\n",
    "#Inicia a captura, para mais detalhes: ver a documentação do tweepy\n",
    "i = 1\n",
    "msgs = []\n",
    "for msg in tweepy.Cursor(api.search, q=produto, lang=lang).items():    \n",
    "    msgs.append(msg.text.lower())\n",
    "    i += 1\n",
    "    if i > n:\n",
    "        break\n",
    "\n",
    "#Embaralhando as mensagens para reduzir um possível viés\n",
    "shuffle(msgs)"
   ]
  },
  {
   "cell_type": "markdown",
   "metadata": {},
   "source": [
    "Salvando os dados em uma planilha Excel:"
   ]
  },
  {
   "cell_type": "code",
   "execution_count": 48,
   "metadata": {
    "collapsed": true
   },
   "outputs": [],
   "source": [
    "#Verifica se o arquivo não existe para não substituir um conjunto pronto\n",
    "if not os.path.isfile('./{0}.xlsx'.format(produto)):\n",
    "    \n",
    "    #Abre o arquivo para escrita\n",
    "    writer = pd.ExcelWriter('{0}.xlsx'.format(produto))\n",
    "\n",
    "    #divide o conjunto de mensagens em duas planilhas\n",
    "    dft = pd.DataFrame({'Treinamento' : pd.Series(msgs[:t])})\n",
    "    dft.to_excel(excel_writer = writer, sheet_name = 'Treinamento', index = False)\n",
    "\n",
    "    dfc = pd.DataFrame({'Teste' : pd.Series(msgs[t:])})\n",
    "    dfc.to_excel(excel_writer = writer, sheet_name = 'Teste', index = False)\n",
    "\n",
    "    #fecha o arquivo\n",
    "    writer.save()\n",
    "    \n",
    "    "
   ]
  },
  {
   "cell_type": "markdown",
   "metadata": {},
   "source": [
    "___\n",
    "## Classificando as Mensagens\n",
    "\n",
    "Agora você deve abrir o arquivo Excel com as mensagens capturadas e classificar na Coluna B se a mensagem é relevante ou não.<br /> \n",
    "Não se esqueça de colocar um nome para a coluna na célula **B1**.<br /><br />\n",
    "Fazer o mesmo na planilha de Controle.\n",
    "\n",
    "___\n",
    "## Montando o Classificador Naive-Bayes\n",
    "\n",
    "Com a base de treinamento montada, comece a desenvolver o classificador. Escreva o seu código abaixo:\n",
    "\n",
    "Opcionalmente: \n",
    "* Limpar as mensagens removendo os caracteres: enter, :, \", ', (, ), etc. Não remover emojis.<br />\n",
    "* Corrigir separação de espaços entre palavras e/ou emojis.\n",
    "* Propor outras limpezas/transformações que não afetem a qualidade da informação.\n",
    "\n"
   ]
  },
  {
   "cell_type": "code",
   "execution_count": 162,
   "metadata": {
    "collapsed": false
   },
   "outputs": [
    {
     "data": {
      "text/plain": [
       "array(['IRRELEVANTE', 'IRRELEVANTE', 'RELEVANTE', 'RELEVANTE',\n",
       "       'IRRELEVANTE', 'IRRELEVANTE', 'RELEVANTE', 'RELEVANTE', 'RELEVANTE',\n",
       "       'RELEVANTE', 'RELEVANTE', 'IRRELEVANTE', 'IRRELEVANTE',\n",
       "       'IRRELEVANTE', 'IRRELEVANTE', 'IRRELEVANTE', 'IRRELEVANTE',\n",
       "       'RELEVANTE', 'RELEVANTE', 'RELEVANTE', 'IRRELEVANTE', 'RELEVANTE',\n",
       "       'IRRELEVANTE', 'IRRELEVANTE', 'IRRELEVANTE', 'RELEVANTE',\n",
       "       'IRRELEVANTE', 'RELEVANTE', 'RELEVANTE', 'RELEVANTE', 'IRRELEVANTE',\n",
       "       'IRRELEVANTE', 'IRRELEVANTE', 'IRRELEVANTE', 'IRRELEVANTE',\n",
       "       'IRRELEVANTE', 'RELEVANTE', 'RELEVANTE', 'IRRELEVANTE',\n",
       "       'IRRELEVANTE', 'RELEVANTE', 'IRRELEVANTE', 'IRRELEVANTE',\n",
       "       'IRRELEVANTE', 'IRRELEVANTE', 'IRRELEVANTE', 'RELEVANTE',\n",
       "       'IRRELEVANTE', 'IRRELEVANTE', 'IRRELEVANTE', 'RELEVANTE',\n",
       "       'IRRELEVANTE', 'RELEVANTE', 'RELEVANTE', 'RELEVANTE', 'RELEVANTE',\n",
       "       'RELEVANTE', 'IRRELEVANTE', 'IRRELEVANTE', 'IRRELEVANTE',\n",
       "       'IRRELEVANTE', 'RELEVANTE', 'IRRELEVANTE', 'IRRELEVANTE',\n",
       "       'RELEVANTE', 'IRRELEVANTE', 'IRRELEVANTE', 'IRRELEVANTE',\n",
       "       'RELEVANTE', 'IRRELEVANTE', 'RELEVANTE', 'RELEVANTE', 'RELEVANTE',\n",
       "       'RELEVANTE', 'RELEVANTE', 'RELEVANTE', 'IRRELEVANTE', 'IRRELEVANTE',\n",
       "       'IRRELEVANTE', 'IRRELEVANTE', 'IRRELEVANTE', 'IRRELEVANTE',\n",
       "       'RELEVANTE', 'RELEVANTE', 'IRRELEVANTE', 'RELEVANTE', 'IRRELEVANTE',\n",
       "       'RELEVANTE', 'IRRELEVANTE', 'RELEVANTE', 'RELEVANTE', 'RELEVANTE',\n",
       "       'IRRELEVANTE', 'IRRELEVANTE', 'RELEVANTE', 'RELEVANTE', 'RELEVANTE',\n",
       "       'IRRELEVANTE', 'RELEVANTE', 'IRRELEVANTE', 'IRRELEVANTE',\n",
       "       'RELEVANTE', 'IRRELEVANTE', 'IRRELEVANTE', 'IRRELEVANTE',\n",
       "       'RELEVANTE', 'IRRELEVANTE', 'RELEVANTE', 'IRRELEVANTE',\n",
       "       'IRRELEVANTE', 'IRRELEVANTE', 'RELEVANTE', 'RELEVANTE',\n",
       "       'IRRELEVANTE', 'RELEVANTE', 'RELEVANTE', 'RELEVANTE', 'IRRELEVANTE',\n",
       "       'RELEVANTE', 'RELEVANTE', 'IRRELEVANTE', 'IRRELEVANTE',\n",
       "       'IRRELEVANTE', 'IRRELEVANTE', 'RELEVANTE', 'IRRELEVANTE',\n",
       "       'RELEVANTE', 'IRRELEVANTE', 'IRRELEVANTE', 'IRRELEVANTE',\n",
       "       'RELEVANTE', 'RELEVANTE', 'RELEVANTE', 'RELEVANTE', 'IRRELEVANTE',\n",
       "       'IRRELEVANTE', 'IRRELEVANTE', 'IRRELEVANTE', 'IRRELEVANTE',\n",
       "       'IRRELEVANTE', 'IRRELEVANTE', 'IRRELEVANTE', 'RELEVANTE',\n",
       "       'IRRELEVANTE', 'IRRELEVANTE', 'RELEVANTE', 'IRRELEVANTE',\n",
       "       'IRRELEVANTE', 'RELEVANTE', 'RELEVANTE', 'IRRELEVANTE', 'RELEVANTE',\n",
       "       'IRRELEVANTE', 'IRRELEVANTE', 'RELEVANTE', 'IRRELEVANTE',\n",
       "       'IRRELEVANTE', 'IRRELEVANTE', 'IRRELEVANTE', 'RELEVANTE',\n",
       "       'IRRELEVANTE', 'IRRELEVANTE', 'IRRELEVANTE', 'IRRELEVANTE',\n",
       "       'RELEVANTE', 'IRRELEVANTE', 'IRRELEVANTE', 'IRRELEVANTE',\n",
       "       'IRRELEVANTE', 'IRRELEVANTE', 'RELEVANTE', 'IRRELEVANTE',\n",
       "       'IRRELEVANTE', 'IRRELEVANTE', 'RELEVANTE', 'IRRELEVANTE',\n",
       "       'RELEVANTE', 'IRRELEVANTE', 'IRRELEVANTE', 'IRRELEVANTE',\n",
       "       'RELEVANTE', 'RELEVANTE', 'RELEVANTE', 'RELEVANTE', 'RELEVANTE',\n",
       "       'RELEVANTE', 'IRRELEVANTE', 'IRRELEVANTE', 'IRRELEVANTE',\n",
       "       'IRRELEVANTE', 'IRRELEVANTE', 'IRRELEVANTE', 'IRRELEVANTE',\n",
       "       'IRRELEVANTE', 'IRRELEVANTE', 'RELEVANTE', 'IRRELEVANTE',\n",
       "       'IRRELEVANTE', 'IRRELEVANTE', 'IRRELEVANTE', 'IRRELEVANTE',\n",
       "       'IRRELEVANTE', 'IRRELEVANTE', 'IRRELEVANTE', 'RELEVANTE',\n",
       "       'IRRELEVANTE', 'RELEVANTE', 'IRRELEVANTE', 'RELEVANTE',\n",
       "       'IRRELEVANTE', 'IRRELEVANTE', 'RELEVANTE', 'RELEVANTE',\n",
       "       'IRRELEVANTE', 'IRRELEVANTE', 'RELEVANTE', 'IRRELEVANTE',\n",
       "       'IRRELEVANTE', 'IRRELEVANTE', 'IRRELEVANTE', 'IRRELEVANTE',\n",
       "       'RELEVANTE', 'IRRELEVANTE', 'IRRELEVANTE', 'IRRELEVANTE',\n",
       "       'IRRELEVANTE', 'RELEVANTE', 'IRRELEVANTE', 'IRRELEVANTE',\n",
       "       'RELEVANTE', 'RELEVANTE', 'IRRELEVANTE', 'IRRELEVANTE', 'RELEVANTE',\n",
       "       'IRRELEVANTE', 'IRRELEVANTE', 'IRRELEVANTE', 'IRRELEVANTE',\n",
       "       'IRRELEVANTE', 'RELEVANTE', 'IRRELEVANTE', 'IRRELEVANTE',\n",
       "       'RELEVANTE', 'IRRELEVANTE', 'IRRELEVANTE', 'RELEVANTE',\n",
       "       'IRRELEVANTE', 'IRRELEVANTE', 'RELEVANTE', 'IRRELEVANTE',\n",
       "       'IRRELEVANTE', 'RELEVANTE', 'IRRELEVANTE', 'IRRELEVANTE',\n",
       "       'IRRELEVANTE', 'RELEVANTE', 'IRRELEVANTE', 'RELEVANTE', 'RELEVANTE',\n",
       "       'IRRELEVANTE', 'IRRELEVANTE', 'RELEVANTE', 'IRRELEVANTE',\n",
       "       'IRRELEVANTE', 'IRRELEVANTE', 'IRRELEVANTE', 'IRRELEVANTE',\n",
       "       'IRRELEVANTE', 'IRRELEVANTE', 'IRRELEVANTE', 'RELEVANTE',\n",
       "       'IRRELEVANTE', 'IRRELEVANTE', 'RELEVANTE', 'RELEVANTE', 'RELEVANTE',\n",
       "       'RELEVANTE', 'IRRELEVANTE', 'RELEVANTE', 'IRRELEVANTE',\n",
       "       'IRRELEVANTE', 'IRRELEVANTE', 'IRRELEVANTE', 'IRRELEVANTE',\n",
       "       'RELEVANTE', 'IRRELEVANTE', 'IRRELEVANTE', 'IRRELEVANTE',\n",
       "       'IRRELEVANTE', 'RELEVANTE', 'IRRELEVANTE', 'IRRELEVANTE',\n",
       "       'IRRELEVANTE', 'IRRELEVANTE', 'IRRELEVANTE', 'IRRELEVANTE',\n",
       "       'IRRELEVANTE', 'IRRELEVANTE', 'IRRELEVANTE', 'IRRELEVANTE'], dtype=object)"
      ]
     },
     "execution_count": 162,
     "metadata": {},
     "output_type": "execute_result"
    }
   ],
   "source": [
    "dados = pd.read_excel(\"Corote.xlsx\")\n",
    "\n",
    "del dados[\"Unnamed: 1\"]\n",
    "dados\n",
    "\n",
    "dados['Treinamento'] = dados['Treinamento'].str.replace(\"@\",\" \")\n",
    "dados['Treinamento'] = dados['Treinamento'].str.replace(\"/\",\" \")\n",
    "dados['Treinamento'] = dados['Treinamento'].str.replace(\"_\",\" \")\n",
    "dados['Treinamento'] = dados['Treinamento'].str.replace(\",\",\" \")\n",
    "dados['Treinamento'] = dados['Treinamento'].str.replace(\".\",\" \")\n",
    "dados['Treinamento'] = dados['Treinamento'].str.replace(\"\\n\",\" \")\n",
    "dados['Treinamento'] = dados['Treinamento'].str.replace(\":\",\" \")\n",
    "dados['Treinamento'] = dados['Treinamento'].str.replace('\"',\"\")\n",
    "dados['Treinamento'] = dados['Treinamento'].str.replace('rt',\"\")\n",
    "dados['Treinamento'] = dados['Treinamento'].str.replace('  ',\" \")\n",
    "dados['Treinamento'] = dados['Treinamento'].str.replace('   ',\" \")\n",
    "dados['Treinamento'] = dados['Treinamento'].str.replace('#',\" \")\n",
    "\n",
    "\n",
    "\n",
    "l = []\n",
    "for i in range(300):\n",
    "    l.append(dados.Treinamento[i])\n",
    "    \n",
    "L = [] \n",
    "for x in range(len(dados.Treinamento)):\n",
    "    a = dados.Treinamento[x]\n",
    "    L.append(a.split())\n",
    "\n",
    "S = []\n",
    "I = []\n"
   ]
  },
  {
   "cell_type": "markdown",
   "metadata": {},
   "source": [
    "___\n",
    "## Verificando a performance\n",
    "\n",
    "Agora você deve testar o seu Classificador com a base de Testes.<br /><br /> \n",
    "\n",
    "Você deve extrair as seguintes medidas:\n",
    "* Porcentagem de positivos falsos (marcados como relevante mas não são relevantes)\n",
    "* Porcentagem de positivos verdadeiros (marcado como relevante e são relevantes)\n",
    "* Porcentagem de negativos verdadeiros (marcado como não relevante e não são relevantes)\n",
    "* Porcentagem de negativos falsos (marcado como não relevante e são relevantes)\n",
    "\n",
    "Opcionalmente:\n",
    "* Criar categorias intermediárias de relevância baseado na diferença de probabilidades. Exemplo: muito relevante, relevante, neutro, irrelevante e muito irrelevante."
   ]
  },
  {
   "cell_type": "code",
   "execution_count": null,
   "metadata": {
    "collapsed": true,
    "scrolled": true
   },
   "outputs": [],
   "source": []
  },
  {
   "cell_type": "markdown",
   "metadata": {
    "collapsed": true
   },
   "source": [
    "___\n",
    "## Concluindo\n",
    "\n",
    "Escreva aqui a sua conclusão.<br /> \n",
    "Faça um comparativo qualitativo sobre as medidas obtidas.<br />\n",
    "Explique como são tratadas as mensagens com dupla negação e sarcasmo.<br />\n",
    "Proponha um plano de expansão. Por que eles devem continuar financiando o seu projeto?<br />\n",
    "\n",
    "Opcionalmente: \n",
    "* Discorrer por que não posso alimentar minha base de Treinamento automaticamente usando o próprio classificador, aplicado a novos tweets.\n",
    "* Propor diferentes cenários de uso para o classificador Naive-Bayes. Cenários sem intersecção com este projeto.\n",
    "* Sugerir e explicar melhorias reais no classificador com indicações concretas de como implementar (não é preciso codificar, mas indicar como fazer e material de pesquisa sobre o assunto).\n"
   ]
  },
  {
   "cell_type": "code",
   "execution_count": null,
   "metadata": {
    "collapsed": true
   },
   "outputs": [],
   "source": []
  },
  {
   "cell_type": "code",
   "execution_count": null,
   "metadata": {
    "collapsed": true
   },
   "outputs": [],
   "source": []
  },
  {
   "cell_type": "code",
   "execution_count": null,
   "metadata": {
    "collapsed": true
   },
   "outputs": [],
   "source": []
  }
 ],
 "metadata": {
  "kernelspec": {
   "display_name": "Python 3",
   "language": "python",
   "name": "python3"
  },
  "language_info": {
   "codemirror_mode": {
    "name": "ipython",
    "version": 3
   },
   "file_extension": ".py",
   "mimetype": "text/x-python",
   "name": "python",
   "nbconvert_exporter": "python",
   "pygments_lexer": "ipython3",
   "version": "3.6.0"
  }
 },
 "nbformat": 4,
 "nbformat_minor": 1
}
