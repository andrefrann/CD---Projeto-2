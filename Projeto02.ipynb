{
 "cells": [
  {
   "cell_type": "markdown",
   "metadata": {},
   "source": [
    "# Projeto 2 - Classificador Automático de Sentimento\n",
    "\n",
    "Você foi contratado por uma empresa parar analisar como os clientes estão reagindo a um determinado produto no Twitter. A empresa deseja que você crie um programa que irá analisar as mensagens disponíveis e classificará como \"relevante\" ou \"irrelevante\". Com isso ela deseja que mensagens negativas, que denigrem o nome do produto, ou que mereçam destaque, disparem um foco de atenção da área de marketing.<br /><br />\n",
    "Como aluno de Ciência dos Dados, você lembrou do Teorema de Bayes, mais especificamente do Classificador Naive-Bayes, que é largamente utilizado em filtros anti-spam de e-mails. O classificador permite calcular qual a probabilidade de uma mensagem ser relevante dadas as palavras em seu conteúdo.<br /><br />\n",
    "Para realizar o MVP (*minimum viable product*) do projeto, você precisa implementar uma versão do classificador que \"aprende\" o que é relevante com uma base de treinamento e compara a performance dos resultados com uma base de testes.<br /><br />\n",
    "Após validado, o seu protótipo poderá também capturar e classificar automaticamente as mensagens da plataforma.\n",
    "\n",
    "## Informações do Projeto\n",
    "\n",
    "Prazo: 13/Set até às 23:59.<br />\n",
    "Grupo: 1 ou 2 pessoas.<br /><br />\n",
    "Entregáveis via GitHub: \n",
    "* Arquivo notebook com o código do classificador, seguindo as orientações abaixo.\n",
    "* Arquivo Excel com as bases de treinamento e teste totalmente classificado.\n",
    "\n",
    "**NÃO disponibilizar o arquivo com os *access keys/tokens* do Twitter.**\n",
    "\n",
    "\n",
    "### Check 3: \n",
    "\n",
    "Até o dia 06 de Setembro às 23:59, o notebook e o xlsx devem estar no Github com as seguintes evidências: \n",
    "    * Conta no twitter criada.\n",
    "    * Produto escolhido.\n",
    "    * Arquivo Excel contendo a base de treinamento e teste já classificado.\n",
    "\n",
    "Sugestão de leitura:<br />\n",
    "http://docs.tweepy.org/en/v3.5.0/index.html<br />\n",
    "https://monkeylearn.com/blog/practical-explanation-naive-bayes-classifier/"
   ]
  },
  {
   "cell_type": "markdown",
   "metadata": {},
   "source": [
    "___\n",
    "\n",
    "## Preparando o ambiente\n",
    "\n",
    "Instalando a biblioteca *tweepy* para realizar a conexão com o Twitter:"
   ]
  },
  {
   "cell_type": "code",
   "execution_count": 2,
   "metadata": {
    "collapsed": true
   },
   "outputs": [],
   "source": [
    "%%capture\n",
    "\n",
    "#Instalando o tweepy\n",
    "!pip install tweepy"
   ]
  },
  {
   "cell_type": "markdown",
   "metadata": {},
   "source": [
    "Importando as Bibliotecas que serão utilizadas. Esteja livre para adicionar outras."
   ]
  },
  {
   "cell_type": "code",
   "execution_count": 3,
   "metadata": {
    "collapsed": true
   },
   "outputs": [],
   "source": [
    "import tweepy\n",
    "import math\n",
    "import os.path\n",
    "import pandas as pd\n",
    "import json\n",
    "from random import shuffle"
   ]
  },
  {
   "cell_type": "markdown",
   "metadata": {},
   "source": [
    "___\n",
    "## Autenticando no  Twitter\n",
    "\n",
    "Para realizar a captura dos dados é necessário ter uma conta cadastrada no twitter:\n",
    "\n",
    "* Conta: ***[Preencha aqui o id da sua conta. Ex: @fulano ]***\n",
    "\n",
    "\n",
    "1. Caso ainda não tenha uma: https://twitter.com/signup\n",
    "1. Depois é necessário registrar um app para usar a biblioteca: https://apps.twitter.com/\n",
    "1. Dentro do registro do App, na aba Keys and Access Tokens, anotar os seguintes campos:\n",
    "    1. Consumer Key (API Key)\n",
    "    1. Consumer Secret (API Secret)\n",
    "1. Mais abaixo, gere um Token e anote também:\n",
    "    1. Access Token\n",
    "    1. Access Token Secret\n",
    "    \n",
    "1. Preencha os valores no arquivo \"auth.pass\"\n",
    "\n",
    "**ATENÇÃO**: Nunca divulgue os dados desse arquivo online (GitHub, etc). Ele contém as chaves necessárias para realizar as operações no twitter de forma automática e portanto é equivalente a ser \"hackeado\". De posse desses dados, pessoas mal intencionadas podem fazer todas as operações manuais (tweetar, seguir, bloquear/desbloquear, listar os seguidores, etc). Para efeito do projeto, esse arquivo não precisa ser entregue!!!"
   ]
  },
  {
   "cell_type": "code",
   "execution_count": 4,
   "metadata": {
    "collapsed": false
   },
   "outputs": [
    {
     "ename": "FileNotFoundError",
     "evalue": "[Errno 2] No such file or directory: 'auth.pass'",
     "output_type": "error",
     "traceback": [
      "\u001b[0;31m---------------------------------------------------------------------------\u001b[0m",
      "\u001b[0;31mFileNotFoundError\u001b[0m                         Traceback (most recent call last)",
      "\u001b[0;32m<ipython-input-4-0ff848c6c1e4>\u001b[0m in \u001b[0;36m<module>\u001b[0;34m()\u001b[0m\n\u001b[1;32m      8\u001b[0m \u001b[1;33m\u001b[0m\u001b[0m\n\u001b[1;32m      9\u001b[0m \u001b[1;31m#leitura do arquivo no formato JSON\u001b[0m\u001b[1;33m\u001b[0m\u001b[1;33m\u001b[0m\u001b[0m\n\u001b[0;32m---> 10\u001b[0;31m \u001b[1;32mwith\u001b[0m \u001b[0mopen\u001b[0m\u001b[1;33m(\u001b[0m\u001b[1;34m'auth.pass'\u001b[0m\u001b[1;33m)\u001b[0m \u001b[1;32mas\u001b[0m \u001b[0mfp\u001b[0m\u001b[1;33m:\u001b[0m\u001b[1;33m\u001b[0m\u001b[0m\n\u001b[0m\u001b[1;32m     11\u001b[0m     \u001b[0mdata\u001b[0m \u001b[1;33m=\u001b[0m \u001b[0mjson\u001b[0m\u001b[1;33m.\u001b[0m\u001b[0mload\u001b[0m\u001b[1;33m(\u001b[0m\u001b[0mfp\u001b[0m\u001b[1;33m)\u001b[0m\u001b[1;33m\u001b[0m\u001b[0m\n\u001b[1;32m     12\u001b[0m \u001b[1;33m\u001b[0m\u001b[0m\n",
      "\u001b[0;31mFileNotFoundError\u001b[0m: [Errno 2] No such file or directory: 'auth.pass'"
     ]
    }
   ],
   "source": [
    "#Dados de autenticação do twitter:\n",
    "# consumer key = Kcq6B8XFQroCqT2dh7FvcWt0H \n",
    "# consumet secret = HwLL5rVZgkk5owuo662LA57o5IFVVsqZHM3LbzU4SMCnUT1rxm\n",
    "# acess token = 905107777705652224-fA5Y1kkycCDfVR2xdAkopJktjRyVebA\n",
    "# token secret = gNQZEXW7rxrk2fhXBhZBYbFBJKq7T4OLhX9OOHbjSZouJ\n",
    "\n",
    "#Coloque aqui o identificador da conta no twitter: @annunzicate\n",
    "\n",
    "#leitura do arquivo no formato JSON\n",
    "with open('auth.pass') as fp:    \n",
    "    data = json.load(fp)\n",
    "\n",
    "#Configurando a biblioteca. Não modificar\n",
    "auth = tweepy.OAuthHandler(data['consumer_key'], data['consumer_secret'])\n",
    "auth.set_access_token(data['access_token'], data['access_token_secret'])"
   ]
  },
  {
   "cell_type": "markdown",
   "metadata": {},
   "source": [
    "___\n",
    "## Coletando Dados\n",
    "\n",
    "Agora vamos coletar os dados. Tenha em mente que dependendo do produto escolhido, não haverá uma quantidade significativa de mensagens, ou ainda poder haver muitos retweets.<br /><br /> \n",
    "Configurando:"
   ]
  },
  {
   "cell_type": "code",
   "execution_count": null,
   "metadata": {
    "collapsed": true
   },
   "outputs": [],
   "source": [
    "#Produto escolhido:\n",
    "produto = 'Corote'\n",
    "\n",
    "#Quantidade mínima de mensagens capturadas:\n",
    "n = 500\n",
    "#Quantidade mínima de mensagens para a base de treinamento:\n",
    "t = 300\n",
    "\n",
    "#Filtro de língua, escolha uma na tabela ISO 639-1.\n",
    "lang = 'pt'"
   ]
  },
  {
   "cell_type": "markdown",
   "metadata": {},
   "source": [
    "Capturando os dados do twitter:"
   ]
  },
  {
   "cell_type": "code",
   "execution_count": null,
   "metadata": {
    "collapsed": false
   },
   "outputs": [],
   "source": [
    "#Cria um objeto para a captura\n",
    "api = tweepy.API(auth)\n",
    "\n",
    "#Inicia a captura, para mais detalhes: ver a documentação do tweepy\n",
    "i = 1\n",
    "msgs = []\n",
    "for msg in tweepy.Cursor(api.search, q=produto, lang=lang).items():    \n",
    "    msgs.append(msg.text.lower())\n",
    "    i += 1\n",
    "    if i > n:\n",
    "        break\n",
    "\n",
    "#Embaralhando as mensagens para reduzir um possível viés\n",
    "shuffle(msgs)"
   ]
  },
  {
   "cell_type": "markdown",
   "metadata": {},
   "source": [
    "Salvando os dados em uma planilha Excel:"
   ]
  },
  {
   "cell_type": "code",
   "execution_count": null,
   "metadata": {
    "collapsed": false
   },
   "outputs": [],
   "source": [
    "#Verifica se o arquivo não existe para não substituir um conjunto pronto\n",
    "if not os.path.isfile('./{0}.xlsx'.format(produto)):\n",
    "    \n",
    "    #Abre o arquivo para escrita\n",
    "    writer = pd.ExcelWriter('{0}.xlsx'.format(produto))\n",
    "\n",
    "    #divide o conjunto de mensagens em duas planilhas\n",
    "    dft = pd.DataFrame({'Treinamento' : pd.Series(msgs[:t])})\n",
    "    dft.to_excel(excel_writer = writer, sheet_name = 'Treinamento', index = False)\n",
    "\n",
    "    dfc = pd.DataFrame({'Teste' : pd.Series(msgs[t:])})\n",
    "    dfc.to_excel(excel_writer = writer, sheet_name = 'Teste', index = False)\n",
    "\n",
    "    #fecha o arquivo\n",
    "    writer.save()\n",
    "    \n",
    "    "
   ]
  },
  {
   "cell_type": "markdown",
   "metadata": {},
   "source": [
    "___\n",
    "## Classificando as Mensagens\n",
    "\n",
    "Agora você deve abrir o arquivo Excel com as mensagens capturadas e classificar na Coluna B se a mensagem é relevante ou não.<br /> \n",
    "Não se esqueça de colocar um nome para a coluna na célula **B1**.<br /><br />\n",
    "Fazer o mesmo na planilha de Controle.\n",
    "\n",
    "___\n",
    "## Montando o Classificador Naive-Bayes\n",
    "\n",
    "Com a base de treinamento montada, comece a desenvolver o classificador. Escreva o seu código abaixo:\n",
    "\n",
    "Opcionalmente: \n",
    "* Limpar as mensagens removendo os caracteres: enter, :, \", ', (, ), etc. Não remover emojis.<br />\n",
    "* Corrigir separação de espaços entre palavras e/ou emojis.\n",
    "* Propor outras limpezas/transformações que não afetem a qualidade da informação.\n",
    "\n"
   ]
  },
  {
   "cell_type": "code",
   "execution_count": 5,
   "metadata": {
    "collapsed": false
   },
   "outputs": [],
   "source": [
    "dados = pd.read_excel(\"Corote.xlsx\")\n",
    "\n",
    "del dados[\"Unnamed: 1\"]\n",
    "dados.columns = [\"Treinamento\",\"Classificacao\"]\n",
    "\n",
    "dados['Treinamento'] = dados['Treinamento'].str.replace(\"@\",\" \")\n",
    "dados['Treinamento'] = dados['Treinamento'].str.replace(\"/\",\" \")\n",
    "dados['Treinamento'] = dados['Treinamento'].str.replace(\"_\",\" \")\n",
    "dados['Treinamento'] = dados['Treinamento'].str.replace(\",\",\" \")\n",
    "dados['Treinamento'] = dados['Treinamento'].str.replace(\".\",\" \")\n",
    "dados['Treinamento'] = dados['Treinamento'].str.replace(\"\\n\",\" \")\n",
    "dados['Treinamento'] = dados['Treinamento'].str.replace(\":\",\" \")\n",
    "dados['Treinamento'] = dados['Treinamento'].str.replace('\"',\"\")\n",
    "dados['Treinamento'] = dados['Treinamento'].str.replace('rt',\"\")\n",
    "dados['Treinamento'] = dados['Treinamento'].str.replace('  ',\" \")\n",
    "dados['Treinamento'] = dados['Treinamento'].str.replace('   ',\" \")\n",
    "dados['Treinamento'] = dados['Treinamento'].str.replace('#',\" \")\n",
    "\n",
    "dados_irrelevante = dados[dados.Classificacao == 'IRRELEVANTE']\n",
    "dados_relevante = dados[dados.Classificacao == 'RELEVANTE']\n",
    "\n",
    "\n",
    "   "
   ]
  },
  {
   "cell_type": "code",
   "execution_count": 6,
   "metadata": {
    "collapsed": false
   },
   "outputs": [],
   "source": [
    "dados_irrelevante = pd.read_excel(\"Irrelevante.xlsx\")\n",
    "dados_relevante = pd.read_excel('Relevante.xlsx')\n",
    "\n",
    "dados_irrelevante['Treinamento'] = dados_irrelevante['Treinamento'].map(lambda x: x.lstrip(' '))\n",
    "dados_relevante['Treinamento'] = dados_relevante['Treinamento'].map(lambda x: x.lstrip(' '))\n",
    "\n",
    "\n"
   ]
  },
  {
   "cell_type": "code",
   "execution_count": 7,
   "metadata": {
    "collapsed": false
   },
   "outputs": [
    {
     "data": {
      "text/html": [
       "<div>\n",
       "<table border=\"1\" class=\"dataframe\">\n",
       "  <thead>\n",
       "    <tr style=\"text-align: right;\">\n",
       "      <th></th>\n",
       "      <th>Treinamento</th>\n",
       "      <th>Classificacao</th>\n",
       "    </tr>\n",
       "  </thead>\n",
       "  <tbody>\n",
       "    <tr>\n",
       "      <th>1</th>\n",
       "      <td>me chama pra beber corote</td>\n",
       "      <td>RELEVANTE</td>\n",
       "    </tr>\n",
       "    <tr>\n",
       "      <th>2</th>\n",
       "      <td>pqtif okumurajaque gabinogueira 12 bolsonibrun...</td>\n",
       "      <td>RELEVANTE</td>\n",
       "    </tr>\n",
       "    <tr>\n",
       "      <th>3</th>\n",
       "      <td>diegoopel quando isso? pior q se for pra ficar...</td>\n",
       "      <td>RELEVANTE</td>\n",
       "    </tr>\n",
       "    <tr>\n",
       "      <th>4</th>\n",
       "      <td>itsmealinep nao to falando mal de corote to fa...</td>\n",
       "      <td>RELEVANTE</td>\n",
       "    </tr>\n",
       "    <tr>\n",
       "      <th>5</th>\n",
       "      <td>não é possível que eu esqueci metade do role p...</td>\n",
       "      <td>RELEVANTE</td>\n",
       "    </tr>\n",
       "    <tr>\n",
       "      <th>6</th>\n",
       "      <td>jennidospeitos vamosss fuma um e toma uns coro...</td>\n",
       "      <td>RELEVANTE</td>\n",
       "    </tr>\n",
       "    <tr>\n",
       "      <th>7</th>\n",
       "      <td>paulabrgss quaa tem open de corote hmmm</td>\n",
       "      <td>RELEVANTE</td>\n",
       "    </tr>\n",
       "    <tr>\n",
       "      <th>8</th>\n",
       "      <td>se a vida te der um limão troque por um corote...</td>\n",
       "      <td>RELEVANTE</td>\n",
       "    </tr>\n",
       "    <tr>\n",
       "      <th>9</th>\n",
       "      <td>gmeelo9 nem cuo paga um corote</td>\n",
       "      <td>RELEVANTE</td>\n",
       "    </tr>\n",
       "    <tr>\n",
       "      <th>10</th>\n",
       "      <td>um corote na mao e mil ideias na cabeça</td>\n",
       "      <td>RELEVANTE</td>\n",
       "    </tr>\n",
       "    <tr>\n",
       "      <th>11</th>\n",
       "      <td>pessoal quanto custa um corote de sabor???? nu...</td>\n",
       "      <td>RELEVANTE</td>\n",
       "    </tr>\n",
       "    <tr>\n",
       "      <th>12</th>\n",
       "      <td>tomando corote d primeira vez  tomando todo fi...</td>\n",
       "      <td>RELEVANTE</td>\n",
       "    </tr>\n",
       "    <tr>\n",
       "      <th>13</th>\n",
       "      <td>vontade de tomar corote</td>\n",
       "      <td>RELEVANTE</td>\n",
       "    </tr>\n",
       "    <tr>\n",
       "      <th>14</th>\n",
       "      <td>maju caetano anafabervieira + corote kkkkkkkkk...</td>\n",
       "      <td>RELEVANTE</td>\n",
       "    </tr>\n",
       "    <tr>\n",
       "      <th>15</th>\n",
       "      <td>só me dêem uma garrafinha de corote de pêssego...</td>\n",
       "      <td>RELEVANTE</td>\n",
       "    </tr>\n",
       "    <tr>\n",
       "      <th>16</th>\n",
       "      <td>beeli nunca tomei corote sabores mas achei vál...</td>\n",
       "      <td>RELEVANTE</td>\n",
       "    </tr>\n",
       "    <tr>\n",
       "      <th>17</th>\n",
       "      <td>juniomesmo hj nois eh obrigado a tomar corote</td>\n",
       "      <td>RELEVANTE</td>\n",
       "    </tr>\n",
       "    <tr>\n",
       "      <th>18</th>\n",
       "      <td>eu não acredito que tem gente que toma corote ...</td>\n",
       "      <td>RELEVANTE</td>\n",
       "    </tr>\n",
       "    <tr>\n",
       "      <th>19</th>\n",
       "      <td>ja- quando que nois vai vira os corote de novo...</td>\n",
       "      <td>RELEVANTE</td>\n",
       "    </tr>\n",
       "    <tr>\n",
       "      <th>20</th>\n",
       "      <td>pq é uma coisa tão boa eu nem sei explicar só ...</td>\n",
       "      <td>RELEVANTE</td>\n",
       "    </tr>\n",
       "    <tr>\n",
       "      <th>21</th>\n",
       "      <td>quaa tem open de corote hmmm</td>\n",
       "      <td>RELEVANTE</td>\n",
       "    </tr>\n",
       "    <tr>\n",
       "      <th>22</th>\n",
       "      <td>marcelodylan ah porra então já é algo corote é...</td>\n",
       "      <td>RELEVANTE</td>\n",
       "    </tr>\n",
       "    <tr>\n",
       "      <th>23</th>\n",
       "      <td>ladeirarenata corote me fez fazer merda</td>\n",
       "      <td>RELEVANTE</td>\n",
       "    </tr>\n",
       "    <tr>\n",
       "      <th>24</th>\n",
       "      <td>na sexta nois quer é corote https  t co ksys9z...</td>\n",
       "      <td>RELEVANTE</td>\n",
       "    </tr>\n",
       "    <tr>\n",
       "      <th>25</th>\n",
       "      <td>bby hell fã de corote vou falar isso pro psicó...</td>\n",
       "      <td>RELEVANTE</td>\n",
       "    </tr>\n",
       "    <tr>\n",
       "      <th>26</th>\n",
       "      <td>não cheguei aos 20 ainda mas ja dei pt de 4 ti...</td>\n",
       "      <td>RELEVANTE</td>\n",
       "    </tr>\n",
       "    <tr>\n",
       "      <th>27</th>\n",
       "      <td>tem tanta coisa pra eu querer beber e tá eu aq...</td>\n",
       "      <td>RELEVANTE</td>\n",
       "    </tr>\n",
       "    <tr>\n",
       "      <th>28</th>\n",
       "      <td>25 conto a festa para ter open de corote? desa...</td>\n",
       "      <td>RELEVANTE</td>\n",
       "    </tr>\n",
       "    <tr>\n",
       "      <th>29</th>\n",
       "      <td>fernan dah beber tô fora pego meu corote e vou...</td>\n",
       "      <td>RELEVANTE</td>\n",
       "    </tr>\n",
       "    <tr>\n",
       "      <th>30</th>\n",
       "      <td>corote pêssego https  t co 8v7tyi6xlq</td>\n",
       "      <td>RELEVANTE</td>\n",
       "    </tr>\n",
       "    <tr>\n",
       "      <th>...</th>\n",
       "      <td>...</td>\n",
       "      <td>...</td>\n",
       "    </tr>\n",
       "    <tr>\n",
       "      <th>78</th>\n",
       "      <td>daniminu sou remediada e tava calor e era um p...</td>\n",
       "      <td>RELEVANTE</td>\n",
       "    </tr>\n",
       "    <tr>\n",
       "      <th>79</th>\n",
       "      <td>jujupacheco03 desconheço bebida melhor que cor...</td>\n",
       "      <td>RELEVANTE</td>\n",
       "    </tr>\n",
       "    <tr>\n",
       "      <th>80</th>\n",
       "      <td>não quero beber corote até o resto da minha vida</td>\n",
       "      <td>RELEVANTE</td>\n",
       "    </tr>\n",
       "    <tr>\n",
       "      <th>81</th>\n",
       "      <td>gustavopellicc eu parei de beber so bebo corot...</td>\n",
       "      <td>RELEVANTE</td>\n",
       "    </tr>\n",
       "    <tr>\n",
       "      <th>82</th>\n",
       "      <td>fariaslucas11 falei mal de corote mais me arre...</td>\n",
       "      <td>RELEVANTE</td>\n",
       "    </tr>\n",
       "    <tr>\n",
       "      <th>83</th>\n",
       "      <td>único relacionamento sério que eu quero agora ...</td>\n",
       "      <td>RELEVANTE</td>\n",
       "    </tr>\n",
       "    <tr>\n",
       "      <th>84</th>\n",
       "      <td>definitivamente corote é a unica bebida q já m...</td>\n",
       "      <td>RELEVANTE</td>\n",
       "    </tr>\n",
       "    <tr>\n",
       "      <th>85</th>\n",
       "      <td>caralhoheinp larisspina mas tem uma condiçao p...</td>\n",
       "      <td>RELEVANTE</td>\n",
       "    </tr>\n",
       "    <tr>\n",
       "      <th>86</th>\n",
       "      <td>corote é um bgl ruim d+ pqp</td>\n",
       "      <td>RELEVANTE</td>\n",
       "    </tr>\n",
       "    <tr>\n",
       "      <th>87</th>\n",
       "      <td>nossa chapei no corote de pêssego ontem melhor...</td>\n",
       "      <td>RELEVANTE</td>\n",
       "    </tr>\n",
       "    <tr>\n",
       "      <th>88</th>\n",
       "      <td>eu acho que em hellcife não tem o tal do corot...</td>\n",
       "      <td>RELEVANTE</td>\n",
       "    </tr>\n",
       "    <tr>\n",
       "      <th>89</th>\n",
       "      <td>shicnu corote eh mo bom aff</td>\n",
       "      <td>RELEVANTE</td>\n",
       "    </tr>\n",
       "    <tr>\n",
       "      <th>90</th>\n",
       "      <td>notbrubb sexo é íntimo e sagrado seu corpo é u...</td>\n",
       "      <td>RELEVANTE</td>\n",
       "    </tr>\n",
       "    <tr>\n",
       "      <th>91</th>\n",
       "      <td>corote é mal galera só isso q eu falo kkkkkkkkk</td>\n",
       "      <td>RELEVANTE</td>\n",
       "    </tr>\n",
       "    <tr>\n",
       "      <th>92</th>\n",
       "      <td>já não bebo catuaba nem vodka por motivos de p...</td>\n",
       "      <td>RELEVANTE</td>\n",
       "    </tr>\n",
       "    <tr>\n",
       "      <th>93</th>\n",
       "      <td>corote nunca mais!!!!</td>\n",
       "      <td>RELEVANTE</td>\n",
       "    </tr>\n",
       "    <tr>\n",
       "      <th>94</th>\n",
       "      <td>fiz minhas compras do mes na adega torrei td m...</td>\n",
       "      <td>RELEVANTE</td>\n",
       "    </tr>\n",
       "    <tr>\n",
       "      <th>95</th>\n",
       "      <td>itsmealinep eu nao entendo como corote virou m...</td>\n",
       "      <td>RELEVANTE</td>\n",
       "    </tr>\n",
       "    <tr>\n",
       "      <th>96</th>\n",
       "      <td>gente vamos comprar corote pra levar pq de man...</td>\n",
       "      <td>RELEVANTE</td>\n",
       "    </tr>\n",
       "    <tr>\n",
       "      <th>97</th>\n",
       "      <td>acordei só o corote de pêssego hoje</td>\n",
       "      <td>RELEVANTE</td>\n",
       "    </tr>\n",
       "    <tr>\n",
       "      <th>98</th>\n",
       "      <td>semana de feriado corote vai ser pouco</td>\n",
       "      <td>RELEVANTE</td>\n",
       "    </tr>\n",
       "    <tr>\n",
       "      <th>99</th>\n",
       "      <td>ontem eu tomei corote pela primeira vez achei ...</td>\n",
       "      <td>RELEVANTE</td>\n",
       "    </tr>\n",
       "    <tr>\n",
       "      <th>100</th>\n",
       "      <td>frango02 tem corote de pessego na padaria de novo</td>\n",
       "      <td>RELEVANTE</td>\n",
       "    </tr>\n",
       "    <tr>\n",
       "      <th>101</th>\n",
       "      <td>eu nao entendo como corote virou modinha puta ...</td>\n",
       "      <td>RELEVANTE</td>\n",
       "    </tr>\n",
       "    <tr>\n",
       "      <th>102</th>\n",
       "      <td>falei pros meus pais que estava com gripe e me...</td>\n",
       "      <td>RELEVANTE</td>\n",
       "    </tr>\n",
       "    <tr>\n",
       "      <th>103</th>\n",
       "      <td>28dejaneiroo pouga 101 corote de pêssego? tô f...</td>\n",
       "      <td>RELEVANTE</td>\n",
       "    </tr>\n",
       "    <tr>\n",
       "      <th>104</th>\n",
       "      <td>eu queria tomar vergonha na cara mas tá difíci...</td>\n",
       "      <td>RELEVANTE</td>\n",
       "    </tr>\n",
       "    <tr>\n",
       "      <th>105</th>\n",
       "      <td>arexandle mano eu to apaixonado por corote puro</td>\n",
       "      <td>RELEVANTE</td>\n",
       "    </tr>\n",
       "    <tr>\n",
       "      <th>106</th>\n",
       "      <td>queria um corote de limao</td>\n",
       "      <td>RELEVANTE</td>\n",
       "    </tr>\n",
       "    <tr>\n",
       "      <th>107</th>\n",
       "      <td>gabsaugust agora me deu vontade de tomar aquel...</td>\n",
       "      <td>RELEVANTE</td>\n",
       "    </tr>\n",
       "  </tbody>\n",
       "</table>\n",
       "<p>107 rows × 2 columns</p>\n",
       "</div>"
      ],
      "text/plain": [
       "                                           Treinamento Classificacao\n",
       "1                            me chama pra beber corote     RELEVANTE\n",
       "2    pqtif okumurajaque gabinogueira 12 bolsonibrun...     RELEVANTE\n",
       "3    diegoopel quando isso? pior q se for pra ficar...     RELEVANTE\n",
       "4    itsmealinep nao to falando mal de corote to fa...     RELEVANTE\n",
       "5    não é possível que eu esqueci metade do role p...     RELEVANTE\n",
       "6    jennidospeitos vamosss fuma um e toma uns coro...     RELEVANTE\n",
       "7              paulabrgss quaa tem open de corote hmmm     RELEVANTE\n",
       "8    se a vida te der um limão troque por um corote...     RELEVANTE\n",
       "9                       gmeelo9 nem cuo paga um corote     RELEVANTE\n",
       "10             um corote na mao e mil ideias na cabeça     RELEVANTE\n",
       "11   pessoal quanto custa um corote de sabor???? nu...     RELEVANTE\n",
       "12   tomando corote d primeira vez  tomando todo fi...     RELEVANTE\n",
       "13                             vontade de tomar corote     RELEVANTE\n",
       "14   maju caetano anafabervieira + corote kkkkkkkkk...     RELEVANTE\n",
       "15   só me dêem uma garrafinha de corote de pêssego...     RELEVANTE\n",
       "16   beeli nunca tomei corote sabores mas achei vál...     RELEVANTE\n",
       "17       juniomesmo hj nois eh obrigado a tomar corote     RELEVANTE\n",
       "18   eu não acredito que tem gente que toma corote ...     RELEVANTE\n",
       "19   ja- quando que nois vai vira os corote de novo...     RELEVANTE\n",
       "20   pq é uma coisa tão boa eu nem sei explicar só ...     RELEVANTE\n",
       "21                        quaa tem open de corote hmmm     RELEVANTE\n",
       "22   marcelodylan ah porra então já é algo corote é...     RELEVANTE\n",
       "23             ladeirarenata corote me fez fazer merda     RELEVANTE\n",
       "24   na sexta nois quer é corote https  t co ksys9z...     RELEVANTE\n",
       "25   bby hell fã de corote vou falar isso pro psicó...     RELEVANTE\n",
       "26   não cheguei aos 20 ainda mas ja dei pt de 4 ti...     RELEVANTE\n",
       "27   tem tanta coisa pra eu querer beber e tá eu aq...     RELEVANTE\n",
       "28   25 conto a festa para ter open de corote? desa...     RELEVANTE\n",
       "29   fernan dah beber tô fora pego meu corote e vou...     RELEVANTE\n",
       "30               corote pêssego https  t co 8v7tyi6xlq     RELEVANTE\n",
       "..                                                 ...           ...\n",
       "78   daniminu sou remediada e tava calor e era um p...     RELEVANTE\n",
       "79   jujupacheco03 desconheço bebida melhor que cor...     RELEVANTE\n",
       "80    não quero beber corote até o resto da minha vida     RELEVANTE\n",
       "81   gustavopellicc eu parei de beber so bebo corot...     RELEVANTE\n",
       "82   fariaslucas11 falei mal de corote mais me arre...     RELEVANTE\n",
       "83   único relacionamento sério que eu quero agora ...     RELEVANTE\n",
       "84   definitivamente corote é a unica bebida q já m...     RELEVANTE\n",
       "85   caralhoheinp larisspina mas tem uma condiçao p...     RELEVANTE\n",
       "86                         corote é um bgl ruim d+ pqp     RELEVANTE\n",
       "87   nossa chapei no corote de pêssego ontem melhor...     RELEVANTE\n",
       "88   eu acho que em hellcife não tem o tal do corot...     RELEVANTE\n",
       "89                         shicnu corote eh mo bom aff     RELEVANTE\n",
       "90   notbrubb sexo é íntimo e sagrado seu corpo é u...     RELEVANTE\n",
       "91     corote é mal galera só isso q eu falo kkkkkkkkk     RELEVANTE\n",
       "92   já não bebo catuaba nem vodka por motivos de p...     RELEVANTE\n",
       "93                               corote nunca mais!!!!     RELEVANTE\n",
       "94   fiz minhas compras do mes na adega torrei td m...     RELEVANTE\n",
       "95   itsmealinep eu nao entendo como corote virou m...     RELEVANTE\n",
       "96   gente vamos comprar corote pra levar pq de man...     RELEVANTE\n",
       "97                 acordei só o corote de pêssego hoje     RELEVANTE\n",
       "98              semana de feriado corote vai ser pouco     RELEVANTE\n",
       "99   ontem eu tomei corote pela primeira vez achei ...     RELEVANTE\n",
       "100  frango02 tem corote de pessego na padaria de novo     RELEVANTE\n",
       "101  eu nao entendo como corote virou modinha puta ...     RELEVANTE\n",
       "102  falei pros meus pais que estava com gripe e me...     RELEVANTE\n",
       "103  28dejaneiroo pouga 101 corote de pêssego? tô f...     RELEVANTE\n",
       "104  eu queria tomar vergonha na cara mas tá difíci...     RELEVANTE\n",
       "105    arexandle mano eu to apaixonado por corote puro     RELEVANTE\n",
       "106                          queria um corote de limao     RELEVANTE\n",
       "107  gabsaugust agora me deu vontade de tomar aquel...     RELEVANTE\n",
       "\n",
       "[107 rows x 2 columns]"
      ]
     },
     "execution_count": 7,
     "metadata": {},
     "output_type": "execute_result"
    }
   ],
   "source": [
    "dados_relevante"
   ]
  },
  {
   "cell_type": "code",
   "execution_count": null,
   "metadata": {
    "collapsed": true
   },
   "outputs": [],
   "source": []
  },
  {
   "cell_type": "code",
   "execution_count": 8,
   "metadata": {
    "collapsed": false,
    "scrolled": true
   },
   "outputs": [],
   "source": [
    "I = []\n",
    "R = []\n",
    "for l in dados_irrelevante.Treinamento:   \n",
    "    partes = l.split()\n",
    "    I.extend(partes)\n",
    "    \n",
    "for l in dados_relevante.Treinamento:   \n",
    "    partes = l.split()\n",
    "    R.extend(partes)\n",
    "    "
   ]
  },
  {
   "cell_type": "code",
   "execution_count": 9,
   "metadata": {
    "collapsed": false
   },
   "outputs": [
    {
     "data": {
      "text/plain": [
       "2596"
      ]
     },
     "execution_count": 9,
     "metadata": {},
     "output_type": "execute_result"
    }
   ],
   "source": [
    "#NUMERO TOTAL DE PALAVRAS - IRRELEVANTES\n",
    "lista_coluna_I = pd.Series(I)\n",
    "len(lista_coluna_I)\n",
    "\n"
   ]
  },
  {
   "cell_type": "code",
   "execution_count": 10,
   "metadata": {
    "collapsed": false
   },
   "outputs": [
    {
     "data": {
      "text/plain": [
       "1266"
      ]
     },
     "execution_count": 10,
     "metadata": {},
     "output_type": "execute_result"
    }
   ],
   "source": [
    "\n",
    "#NUMERO TOTAL DE PALAVRAS - RELEVANTES\n",
    "lista_coluna_R = pd.Series(R)\n",
    "len(lista_coluna_R)\n",
    "\n",
    "\n"
   ]
  },
  {
   "cell_type": "code",
   "execution_count": 11,
   "metadata": {
    "collapsed": false
   },
   "outputs": [],
   "source": [
    "#QUANTIDADE QUE CADA PALAVRA APARECE - IRRELEVANTE\n",
    "vcI = lista_coluna_I.value_counts()\n",
    "X = []\n",
    "for x in lista_coluna_I:\n",
    "    if not x in X:\n",
    "        X.append(x)\n",
    "for i in X:\n",
    "    a = vcI[i]\n",
    "    #print(\"Essa palavra'{0}' possui {1} repetições\".format(i,a))\n",
    "    "
   ]
  },
  {
   "cell_type": "code",
   "execution_count": 12,
   "metadata": {
    "collapsed": false
   },
   "outputs": [],
   "source": [
    "\n",
    "#QUANTIDADE QUE CADA PALAVRA APARECE - RELEVANTE\n",
    "vcR = lista_coluna_R.value_counts()\n",
    "X = []\n",
    "for x in lista_coluna_R:\n",
    "    if not x in X:\n",
    "        X.append(x)\n",
    "for i in X:\n",
    "    a = vcR[i]\n",
    "    #print(\"Essa palavra'{0}' possui {1} repetições\".format(i,a))\n",
    "    \n"
   ]
  },
  {
   "cell_type": "code",
   "execution_count": 13,
   "metadata": {
    "collapsed": false
   },
   "outputs": [
    {
     "data": {
      "text/plain": [
       "1361"
      ]
     },
     "execution_count": 13,
     "metadata": {},
     "output_type": "execute_result"
    }
   ],
   "source": [
    "T = []\n",
    "for i in I:\n",
    "    T.append(i)\n",
    "for i in R:\n",
    "    T.append(i)\n",
    "    \n",
    "lista_coluna_T = pd.Series(T)\n",
    "vcT = lista_coluna_T.value_counts()\n",
    "len(vcT)"
   ]
  },
  {
   "cell_type": "code",
   "execution_count": 14,
   "metadata": {
    "collapsed": false
   },
   "outputs": [],
   "source": [
    "IF = []\n",
    "RF = []\n",
    "TF = []\n",
    "\n",
    "for l in dados_irrelevante.Treinamento:   \n",
    "    partes = l.split()\n",
    "    IF.append(partes)\n",
    "    TF.append(partes)\n",
    "    \n",
    "for l in dados_relevante.Treinamento:   \n",
    "    partes = l.split()\n",
    "    RF.append(partes)\n",
    "    TF.append(partes)\n",
    "\n"
   ]
  },
  {
   "cell_type": "code",
   "execution_count": 15,
   "metadata": {
    "collapsed": false
   },
   "outputs": [],
   "source": [
    "# AI = x+1\n",
    "AI = []\n",
    "AR = []\n",
    "y = len(lista_coluna_I)\n",
    "w = len(vcT)\n",
    "\n",
    "for i in TF:\n",
    "    j = 0\n",
    "    ri = 1\n",
    "    rr = 1\n",
    "    for k in i:\n",
    "    #VERIFICANDO PARA IRRELEVANTE\n",
    "        if not k in vcI:\n",
    "            ai = 1\n",
    "            ri = (ai/(y+w))*ri\n",
    "                \n",
    "        if k in vcI:    \n",
    "            ai = vcI[k] + 1\n",
    "            ri = (ai/(y+w))*ri\n",
    "    AI.append(ri)\n",
    "    \n",
    "    for k in i:\n",
    "    #VERIFICANDO PARA IRRELEVANTE\n",
    "        if not k in vcR:\n",
    "            ar = 1\n",
    "            rr = (ar/(y+w))*rr\n",
    "                \n",
    "        if k in vcR:    \n",
    "            ar = vcR[k] + 1\n",
    "            rr = (ar/(y+w))*rr\n",
    "    AR.append(rr)\n",
    "    \n",
    "    \n",
    "\n",
    "\n"
   ]
  },
  {
   "cell_type": "code",
   "execution_count": 16,
   "metadata": {
    "collapsed": false
   },
   "outputs": [
    {
     "data": {
      "text/plain": [
       "300"
      ]
     },
     "execution_count": 16,
     "metadata": {},
     "output_type": "execute_result"
    }
   ],
   "source": [
    "FRASE = []\n",
    "\n",
    "for l in dados_irrelevante.Treinamento:   \n",
    "    \n",
    "    FRASE.append(l)\n",
    "    \n",
    "for l in dados_relevante.Treinamento:   \n",
    "    \n",
    "    FRASE.append(l)\n",
    "    \n",
    "len(FRASE)"
   ]
  },
  {
   "cell_type": "code",
   "execution_count": 17,
   "metadata": {
    "collapsed": false
   },
   "outputs": [],
   "source": [
    "FINAL = []\n",
    "\n",
    "for i in range(len(AR)):\n",
    "    if AR[i] > AI[i]:\n",
    "        FINAL.append('RELEVANTE')\n",
    "        #print(\"A frase '{0}' é relevante\".format(FRASE[i]))\n",
    "    else:\n",
    "        FINAL.append('IRRELEVANTE')\n",
    "        #print(\"A frase '{0}' é irrelevante\".format(FRASE[i]))\n"
   ]
  },
  {
   "cell_type": "code",
   "execution_count": 18,
   "metadata": {
    "collapsed": false,
    "scrolled": false
   },
   "outputs": [],
   "source": [
    "tabela = pd.Series(FINAL)"
   ]
  },
  {
   "cell_type": "code",
   "execution_count": null,
   "metadata": {
    "collapsed": true
   },
   "outputs": [],
   "source": []
  },
  {
   "cell_type": "markdown",
   "metadata": {},
   "source": [
    "___\n",
    "## Verificando a performance\n",
    "\n",
    "Agora você deve testar o seu Classificador com a base de Testes.<br /><br /> \n",
    "\n",
    "Você deve extrair as seguintes medidas:\n",
    "* Porcentagem de positivos falsos (marcados como relevante mas não são relevantes)\n",
    "* Porcentagem de positivos verdadeiros (marcado como relevante e são relevantes)\n",
    "* Porcentagem de negativos verdadeiros (marcado como não relevante e não são relevantes)\n",
    "* Porcentagem de negativos falsos (marcado como não relevante e são relevantes)\n",
    "\n",
    "Opcionalmente:\n",
    "* Criar categorias intermediárias de relevância baseado na diferença de probabilidades. Exemplo: muito relevante, relevante, neutro, irrelevante e muito irrelevante."
   ]
  },
  {
   "cell_type": "code",
   "execution_count": 19,
   "metadata": {
    "collapsed": false,
    "scrolled": true
   },
   "outputs": [],
   "source": [
    "teste = pd.read_excel(\"Corote.xlsx\", sheetname=\"Teste\")\n",
    "teste\n",
    "\n",
    "del teste[\"Unnamed: 1\"]\n",
    "\n",
    "teste.columns = [\"Teste\",'Classificacao']\n",
    "\n",
    "teste['Teste'] = teste['Teste'].str.replace(\"@\",\" \")\n",
    "teste['Teste'] = teste['Teste'].str.replace(\"/\",\" \")\n",
    "teste['Teste'] = teste['Teste'].str.replace(\"_\",\" \")\n",
    "teste['Teste'] = teste['Teste'].str.replace(\",\",\" \")\n",
    "teste['Teste'] = teste['Teste'].str.replace(\".\",\" \")\n",
    "teste['Teste'] = teste['Teste'].str.replace(\"\\n\",\" \")\n",
    "teste['Teste'] = teste['Teste'].str.replace(\":\",\" \")\n",
    "teste['Teste'] = teste['Teste'].str.replace('\"',\"\")\n",
    "teste['Teste'] = teste['Teste'].str.replace('rt',\"\")\n",
    "teste['Teste'] = teste['Teste'].str.replace('  ',\" \")\n",
    "teste['Teste'] = teste['Teste'].str.replace('   ',\" \")\n",
    "teste['Teste'] = teste['Teste'].str.replace('#',\" \")\n"
   ]
  },
  {
   "cell_type": "code",
   "execution_count": 20,
   "metadata": {
    "collapsed": false
   },
   "outputs": [],
   "source": [
    "teste_irrelevante = teste[teste.Classificacao == 'IRRELEVANTE']\n",
    "teste_relevante = teste[teste.Classificacao == 'RELEVANTE']"
   ]
  },
  {
   "cell_type": "code",
   "execution_count": 21,
   "metadata": {
    "collapsed": true
   },
   "outputs": [],
   "source": [
    "#teste_irrelevante.to_excel(\"Irrelevante_t.xlsx\")\n",
    "#teste_relevante.to_excel(\"Relevante_t.xlsx\")"
   ]
  },
  {
   "cell_type": "code",
   "execution_count": 22,
   "metadata": {
    "collapsed": false
   },
   "outputs": [],
   "source": [
    "teste_irrelevante = pd.read_excel(\"Irrelevante_t.xlsx\")\n",
    "teste_relevante = pd.read_excel(\"Relevante_t.xlsx\")\n",
    "#teste_relevante"
   ]
  },
  {
   "cell_type": "code",
   "execution_count": 23,
   "metadata": {
    "collapsed": false,
    "scrolled": true
   },
   "outputs": [],
   "source": [
    "TI = []\n",
    "TR = []\n",
    "for l in teste_irrelevante.Teste:   \n",
    "    partes = l.split()\n",
    "    TI.extend(partes)\n",
    "    \n",
    "for l in teste_relevante.Teste:   \n",
    "    partes = l.split()\n",
    "    TR.extend(partes)"
   ]
  },
  {
   "cell_type": "code",
   "execution_count": 24,
   "metadata": {
    "collapsed": false
   },
   "outputs": [
    {
     "data": {
      "text/plain": [
       "1956"
      ]
     },
     "execution_count": 24,
     "metadata": {},
     "output_type": "execute_result"
    }
   ],
   "source": [
    "#NUMERO TOTAL DE PALAVRAS - IRRELEVANTES\n",
    "lista_coluna_TI = pd.Series(TI)\n",
    "len(lista_coluna_TI)"
   ]
  },
  {
   "cell_type": "code",
   "execution_count": 25,
   "metadata": {
    "collapsed": false
   },
   "outputs": [
    {
     "data": {
      "text/plain": [
       "501"
      ]
     },
     "execution_count": 25,
     "metadata": {},
     "output_type": "execute_result"
    }
   ],
   "source": [
    "#NUMERO TOTAL DE PALAVRAS - RELEVANTES\n",
    "lista_coluna_TR = pd.Series(TR)\n",
    "len(lista_coluna_TR)\n"
   ]
  },
  {
   "cell_type": "code",
   "execution_count": 26,
   "metadata": {
    "collapsed": false
   },
   "outputs": [],
   "source": [
    "#QUANTIDADE QUE CADA PALAVRA APARECE - IRRELEVANTE\n",
    "vcTI = lista_coluna_TI.value_counts()\n",
    "X = []\n",
    "for x in lista_coluna_TI:\n",
    "    if not x in X:\n",
    "        X.append(x)\n",
    "for i in X:\n",
    "    a = vcTI[i]\n",
    "    #print(\"Essa palavra'{0}' possui {1} repetições\".format(i,a))"
   ]
  },
  {
   "cell_type": "code",
   "execution_count": 27,
   "metadata": {
    "collapsed": false
   },
   "outputs": [],
   "source": [
    "#QUANTIDADE QUE CADA PALAVRA APARECE - RELEVANTE\n",
    "vcTR = lista_coluna_TR.value_counts()\n",
    "X = []\n",
    "for x in lista_coluna_TR:\n",
    "    if not x in X:\n",
    "        X.append(x)\n",
    "for i in X:\n",
    "    a = vcTR[i]\n",
    "    #print(\"Essa palavra'{0}' possui {1} repetições\".format(i,a))"
   ]
  },
  {
   "cell_type": "code",
   "execution_count": 28,
   "metadata": {
    "collapsed": false
   },
   "outputs": [
    {
     "data": {
      "text/plain": [
       "979"
      ]
     },
     "execution_count": 28,
     "metadata": {},
     "output_type": "execute_result"
    }
   ],
   "source": [
    "T = []\n",
    "for i in TI:\n",
    "    T.append(i)\n",
    "for i in TR:\n",
    "    T.append(i)\n",
    "    \n",
    "lista_coluna_T = pd.Series(T)\n",
    "vcT = lista_coluna_T.value_counts()\n",
    "len(vcT)"
   ]
  },
  {
   "cell_type": "code",
   "execution_count": 29,
   "metadata": {
    "collapsed": false
   },
   "outputs": [],
   "source": [
    "IFt = []\n",
    "RFt = []\n",
    "TFt = []\n",
    "\n",
    "for l in teste_irrelevante.Teste:   \n",
    "    partes = l.split()\n",
    "    IFt.append(partes)\n",
    "    TFt.append(partes)\n",
    "    \n",
    "for l in teste_relevante.Teste:   \n",
    "    partes = l.split()\n",
    "    RFt.append(partes)\n",
    "    TFt.append(partes)\n",
    "    \n"
   ]
  },
  {
   "cell_type": "code",
   "execution_count": 30,
   "metadata": {
    "collapsed": false
   },
   "outputs": [],
   "source": [
    "# AI = x+1\n",
    "AIt = []\n",
    "ARt = []\n",
    "y = len(lista_coluna_TI)\n",
    "w = len(vcT)\n",
    "\n",
    "for i in TFt:\n",
    "    j = 0\n",
    "    ri = 1\n",
    "    rr = 1\n",
    "    for k in i:\n",
    "    #VERIFICANDO PARA IRRELEVANTE\n",
    "        if not k in vcTI:\n",
    "            ai = 1\n",
    "            ri = (ai/(y+w))*ri\n",
    "                \n",
    "        if k in vcTI:    \n",
    "            ai = vcTI[k] + 1\n",
    "            ri = (ai/(y+w))*ri\n",
    "    AIt.append(ri)\n",
    "    \n",
    "    for k in i:\n",
    "    #VERIFICANDO PARA IRRELEVANTE\n",
    "        if not k in vcTR:\n",
    "            ar = 1\n",
    "            rr = (ar/(y+w))*rr\n",
    "                \n",
    "        if k in vcTR:    \n",
    "            ar = vcTR[k] + 1\n",
    "            rr = (ar/(y+w))*rr\n",
    "    ARt.append(rr)"
   ]
  },
  {
   "cell_type": "code",
   "execution_count": 31,
   "metadata": {
    "collapsed": false
   },
   "outputs": [
    {
     "data": {
      "text/plain": [
       "200"
      ]
     },
     "execution_count": 31,
     "metadata": {},
     "output_type": "execute_result"
    }
   ],
   "source": [
    "FRASE_t = []\n",
    "\n",
    "for l in teste_irrelevante.Teste:   \n",
    "    \n",
    "    FRASE_t.append(l)\n",
    "    \n",
    "for l in teste_relevante.Teste:   \n",
    "    \n",
    "    FRASE_t.append(l)\n",
    "    \n",
    "len(FRASE_t)\n"
   ]
  },
  {
   "cell_type": "code",
   "execution_count": 32,
   "metadata": {
    "collapsed": false
   },
   "outputs": [],
   "source": [
    "FINAL_t = []\n",
    "\n",
    "for i in range(len(ARt)):\n",
    "    if ARt[i] > AIt[i]:\n",
    "        FINAL_t.append('RELEVANTE')\n",
    "        #print(\"A frase '{0}' é relevante\".format(FRASE_t[i]))\n",
    "    else:\n",
    "        FINAL_t.append('IRRELEVANTE')\n",
    "        #print(\"A frase '{0}' é irrelevante\".format(FRASE_t[i]))"
   ]
  },
  {
   "cell_type": "code",
   "execution_count": 33,
   "metadata": {
    "collapsed": false
   },
   "outputs": [
    {
     "data": {
      "text/plain": [
       "0      IRRELEVANTE\n",
       "1      IRRELEVANTE\n",
       "2      IRRELEVANTE\n",
       "3      IRRELEVANTE\n",
       "4      IRRELEVANTE\n",
       "5      IRRELEVANTE\n",
       "6      IRRELEVANTE\n",
       "7      IRRELEVANTE\n",
       "8      IRRELEVANTE\n",
       "9      IRRELEVANTE\n",
       "10     IRRELEVANTE\n",
       "11     IRRELEVANTE\n",
       "12     IRRELEVANTE\n",
       "13     IRRELEVANTE\n",
       "14     IRRELEVANTE\n",
       "15     IRRELEVANTE\n",
       "16     IRRELEVANTE\n",
       "17     IRRELEVANTE\n",
       "18     IRRELEVANTE\n",
       "19     IRRELEVANTE\n",
       "20     IRRELEVANTE\n",
       "21     IRRELEVANTE\n",
       "22     IRRELEVANTE\n",
       "23     IRRELEVANTE\n",
       "24     IRRELEVANTE\n",
       "25     IRRELEVANTE\n",
       "26     IRRELEVANTE\n",
       "27     IRRELEVANTE\n",
       "28     IRRELEVANTE\n",
       "29     IRRELEVANTE\n",
       "          ...     \n",
       "170    IRRELEVANTE\n",
       "171      RELEVANTE\n",
       "172      RELEVANTE\n",
       "173    IRRELEVANTE\n",
       "174      RELEVANTE\n",
       "175      RELEVANTE\n",
       "176    IRRELEVANTE\n",
       "177    IRRELEVANTE\n",
       "178    IRRELEVANTE\n",
       "179    IRRELEVANTE\n",
       "180    IRRELEVANTE\n",
       "181    IRRELEVANTE\n",
       "182    IRRELEVANTE\n",
       "183    IRRELEVANTE\n",
       "184      RELEVANTE\n",
       "185    IRRELEVANTE\n",
       "186    IRRELEVANTE\n",
       "187    IRRELEVANTE\n",
       "188    IRRELEVANTE\n",
       "189    IRRELEVANTE\n",
       "190    IRRELEVANTE\n",
       "191    IRRELEVANTE\n",
       "192    IRRELEVANTE\n",
       "193    IRRELEVANTE\n",
       "194    IRRELEVANTE\n",
       "195      RELEVANTE\n",
       "196      RELEVANTE\n",
       "197    IRRELEVANTE\n",
       "198      RELEVANTE\n",
       "199    IRRELEVANTE\n",
       "dtype: object"
      ]
     },
     "execution_count": 33,
     "metadata": {},
     "output_type": "execute_result"
    }
   ],
   "source": [
    "tab_teste = pd.Series(FINAL_t)\n",
    "tab_teste\n"
   ]
  },
  {
   "cell_type": "markdown",
   "metadata": {
    "collapsed": true
   },
   "source": [
    "AS FRASES FORAM SEPARADAS EM TABELAS DIFERENTES. UMA IRRELEVANTE E OUTRA RELEVANTE. \n",
    "\n",
    "\n",
    "\n",
    "PRIMEIRO  FOI DADO UM APPEND NA TABELA IRRELEVANTE E DEPOIS NA RELEVANTE.\n",
    "\n",
    "AS PRIMEIRAS 153 FRASES FORAM CLASSIFICADAS (MANUALMENTE) COMO IRRELEVANTE E AS 47 RESTANTES COMO RELEVANTES\n",
    "\n",
    "ASSIM, É NECESSÁRIO COMPARAR PRIMEIRO COM A TABELA IRRELEVANTE E DEPOIS COM A TABELA RELEVANTE."
   ]
  },
  {
   "cell_type": "code",
   "execution_count": 36,
   "metadata": {
    "collapsed": false
   },
   "outputs": [],
   "source": [
    "#POSITIVO FALSO = MARCADO COMO RELEVANTE MAS É IRRELEVANTE\n",
    "#POSITIVO VERDADIRO = MARCADO COMO RELEVANTE E É RELEVANTE\n",
    "#NEGATIVO VERDADEIRO = MARCADO COMO IRRELEVANTE E É IRRELEVANTE\n",
    "#NEGATIVO FALSO = MARCADO COMO IRRELEVANTE MAS É RELEVANTE\n",
    "\n",
    "POSITIVO_FALSO = [] \n",
    "POSITIVO_VERDADEIRO = []  \n",
    "NEGATIVO_VERDADEIRO = []\n",
    "NEGATIVO_FALSO = []\n",
    "\n",
    "for i in range(154):\n",
    "    if tab_teste[i] == 'IRRELEVANTE':\n",
    "        NEGATIVO_VERDADEIRO.append(\"A frase '{0}' é negativo verdadeiro\".format(i))\n",
    "    if tab_teste[i] == 'RELEVANTE':\n",
    "        NEGATIVO_FALSO.append(\"A frase '{0}' é negativo falso\".format(i))\n",
    "for i in range(154,200):\n",
    "    if tab_teste[i] == 'RELEVANTE':\n",
    "        POSITIVO_VERDADEIRO.append(\"A frase '{0}' é positivo verdadeiro\".format(i))\n",
    "    if tab_teste[i] == 'IRRELEVANTE':\n",
    "        POSITIVO_FALSO.append(\"A frase '{0}' é positivo falso\".format(i))\n",
    "    \n",
    "#QUANTIDADE QUE CADA UM TEM\n",
    "\n",
    "PF = len(POSITIVO_FALSO)\n",
    "PV = len(POSITIVO_VERDADEIRO)\n",
    "NF = len(NEGATIVO_FALSO)\n",
    "NV = len(NEGATIVO_VERDADEIRO)\n",
    "        \n",
    "\n",
    "    "
   ]
  },
  {
   "cell_type": "code",
   "execution_count": 37,
   "metadata": {
    "collapsed": false
   },
   "outputs": [
    {
     "data": {
      "text/plain": [
       "36"
      ]
     },
     "execution_count": 37,
     "metadata": {},
     "output_type": "execute_result"
    }
   ],
   "source": [
    "PF"
   ]
  },
  {
   "cell_type": "code",
   "execution_count": 38,
   "metadata": {
    "collapsed": false
   },
   "outputs": [
    {
     "data": {
      "text/plain": [
       "10"
      ]
     },
     "execution_count": 38,
     "metadata": {},
     "output_type": "execute_result"
    }
   ],
   "source": [
    "PV"
   ]
  },
  {
   "cell_type": "code",
   "execution_count": 39,
   "metadata": {
    "collapsed": false
   },
   "outputs": [
    {
     "data": {
      "text/plain": [
       "0"
      ]
     },
     "execution_count": 39,
     "metadata": {},
     "output_type": "execute_result"
    }
   ],
   "source": [
    "NF"
   ]
  },
  {
   "cell_type": "code",
   "execution_count": 40,
   "metadata": {
    "collapsed": false
   },
   "outputs": [
    {
     "data": {
      "text/plain": [
       "154"
      ]
     },
     "execution_count": 40,
     "metadata": {},
     "output_type": "execute_result"
    }
   ],
   "source": [
    "NV"
   ]
  },
  {
   "cell_type": "markdown",
   "metadata": {
    "collapsed": true
   },
   "source": [
    "___\n",
    "## Concluindo\n",
    "\n",
    "Escreva aqui a sua conclusão.<br /> \n",
    "Faça um comparativo qualitativo sobre as medidas obtidas.<br />\n",
    "Explique como são tratadas as mensagens com dupla negação e sarcasmo.<br />\n",
    "Proponha um plano de expansão. Por que eles devem continuar financiando o seu projeto?<br />\n",
    "\n",
    "Opcionalmente: \n",
    "* Discorrer por que não posso alimentar minha base de Treinamento automaticamente usando o próprio classificador, aplicado a novos tweets.\n",
    "* Propor diferentes cenários de uso para o classificador Naive-Bayes. Cenários sem intersecção com este projeto.\n",
    "* Sugerir e explicar melhorias reais no classificador com indicações concretas de como implementar (não é preciso codificar, mas indicar como fazer e material de pesquisa sobre o assunto).\n"
   ]
  },
  {
   "cell_type": "markdown",
   "metadata": {
    "collapsed": true
   },
   "source": [
    "1)A porcentagem de medidas irrelevantes é muito maior do que a de relevantes, assim como quando classificado manualmento, o que é algo positivo do programa.\n",
    "\n",
    "1)Todos os dados classificados como irrelevante realmente eram irrelevantes, o que é algo positivo do programa.\n",
    "\n",
    "1)Aproximadamente 20% dos dados classificados manualente como relevantes foram classificados como irrelevante pelo programa.\n",
    "\n",
    "2)As mensagens com sarcasmo e dupla negação não conseguem ser bem entendidas pelo programa, desta maneira gerando confusão na hora de ser classificada.\n",
    "\n",
    "3)De forma geral o programa teve um bom desempenho. Os dados classificados manualmente tiveram um resultado muito similar quando classificado pelo programa.Apenas 2,5% dos dados receberam classificação pelo programa diferente de quando analisado manualmente. O que mostra um grande eficiência.\n",
    "\n",
    "\n"
   ]
  },
  {
   "cell_type": "code",
   "execution_count": null,
   "metadata": {
    "collapsed": true
   },
   "outputs": [],
   "source": []
  },
  {
   "cell_type": "code",
   "execution_count": null,
   "metadata": {
    "collapsed": true
   },
   "outputs": [],
   "source": []
  },
  {
   "cell_type": "code",
   "execution_count": null,
   "metadata": {
    "collapsed": true
   },
   "outputs": [],
   "source": []
  }
 ],
 "metadata": {
  "kernelspec": {
   "display_name": "Python 3",
   "language": "python",
   "name": "python3"
  },
  "language_info": {
   "codemirror_mode": {
    "name": "ipython",
    "version": 3
   },
   "file_extension": ".py",
   "mimetype": "text/x-python",
   "name": "python",
   "nbconvert_exporter": "python",
   "pygments_lexer": "ipython3",
   "version": "3.6.0"
  }
 },
 "nbformat": 4,
 "nbformat_minor": 1
}
